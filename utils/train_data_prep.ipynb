{
 "cells": [
  {
   "cell_type": "code",
   "execution_count": 30,
   "id": "f68d58cb",
   "metadata": {},
   "outputs": [],
   "source": [
    "import os\n",
    "import pandas as pd"
   ]
  },
  {
   "cell_type": "code",
   "execution_count": null,
   "id": "d25382fd",
   "metadata": {},
   "outputs": [],
   "source": [
    "MAX_ENTRY = 40_000"
   ]
  },
  {
   "cell_type": "code",
   "execution_count": 32,
   "id": "b9b1ed77",
   "metadata": {},
   "outputs": [],
   "source": [
    "ss_lst = [\"einspace\", \"nasbench101\", \"nas201nats\", \"nasbench301\", \"hnasbench201\"]\n",
    "train_lst = [os.path.join('../data/chain_slim_v1', f'{ss}_train.csv') for ss in ss_lst]\n",
    "val_lst = [os.path.join('../data/chain_slim_v1', f'{ss}_val.csv') for ss in ss_lst]"
   ]
  },
  {
   "cell_type": "code",
   "execution_count": 34,
   "id": "2cefc7b9",
   "metadata": {},
   "outputs": [],
   "source": [
    "train_df_lst = [pd.read_csv(f) for f in train_lst]\n",
    "val_df_lst = [pd.read_csv(f) for f in val_lst]"
   ]
  },
  {
   "cell_type": "code",
   "execution_count": 35,
   "id": "c72d5e23",
   "metadata": {},
   "outputs": [],
   "source": [
    "# change the 'dataset' column to the name of each \n",
    "\n",
    "train_df_lst = [df.assign(dataset=ss) for df, ss in zip(train_df_lst, ss_lst)]\n",
    "val_df_lst = [df.assign(dataset=ss) for df, ss in zip(val_df_lst, ss_lst)]"
   ]
  },
  {
   "cell_type": "code",
   "execution_count": 36,
   "id": "00825026",
   "metadata": {},
   "outputs": [],
   "source": [
    "train_df_lst = [df.sample(n=MAX_ENTRY, random_state=42) if len(df) > MAX_ENTRY else df for df in train_df_lst]"
   ]
  },
  {
   "cell_type": "code",
   "execution_count": 37,
   "id": "91d40464",
   "metadata": {},
   "outputs": [],
   "source": [
    "train_df = pd.concat(train_df_lst, ignore_index=True)\n",
    "val_df = pd.concat(val_df_lst, ignore_index=True)"
   ]
  },
  {
   "cell_type": "code",
   "execution_count": 38,
   "id": "a6b2ee3f",
   "metadata": {},
   "outputs": [
    {
     "data": {
      "text/plain": [
       "(5000, 9)"
      ]
     },
     "execution_count": 38,
     "metadata": {},
     "output_type": "execute_result"
    }
   ],
   "source": [
    "train_df.shape"
   ]
  },
  {
   "cell_type": "code",
   "execution_count": 39,
   "id": "bc3ea63c",
   "metadata": {},
   "outputs": [
    {
     "data": {
      "text/plain": [
       "(25443, 9)"
      ]
     },
     "execution_count": 39,
     "metadata": {},
     "output_type": "execute_result"
    }
   ],
   "source": [
    "val_df.shape"
   ]
  },
  {
   "cell_type": "code",
   "execution_count": 40,
   "id": "4c3ba85d",
   "metadata": {},
   "outputs": [],
   "source": [
    "train_df.to_csv('../data/chain_slim_v1/train_1k.csv', index=False)\n",
    "val_df.to_csv('../data/chain_slim_v1/val_1k.csv', index=False)"
   ]
  },
  {
   "cell_type": "code",
   "execution_count": null,
   "id": "df20a46b",
   "metadata": {},
   "outputs": [],
   "source": []
  }
 ],
 "metadata": {
  "kernelspec": {
   "display_name": "einspace",
   "language": "python",
   "name": "python3"
  },
  "language_info": {
   "codemirror_mode": {
    "name": "ipython",
    "version": 3
   },
   "file_extension": ".py",
   "mimetype": "text/x-python",
   "name": "python",
   "nbconvert_exporter": "python",
   "pygments_lexer": "ipython3",
   "version": "3.10.16"
  }
 },
 "nbformat": 4,
 "nbformat_minor": 5
}
